{
 "cells": [
  {
   "metadata": {},
   "cell_type": "markdown",
   "source": "# Spotify Data Extraction",
   "id": "24ef5508f48d5d93"
  },
  {
   "metadata": {},
   "cell_type": "markdown",
   "source": "## Import Libraries",
   "id": "248d9c46cbf1444e"
  },
  {
   "cell_type": "code",
   "id": "initial_id",
   "metadata": {
    "collapsed": true,
    "ExecuteTime": {
     "end_time": "2025-05-23T11:05:03.246090Z",
     "start_time": "2025-05-23T11:05:03.243651Z"
    }
   },
   "source": [
    "import spotipy\n",
    "from spotipy.oauth2 import SpotifyClientCredentials, SpotifyOAuth\n",
    "import pandas as pd"
   ],
   "outputs": [],
   "execution_count": 8
  },
  {
   "metadata": {},
   "cell_type": "markdown",
   "source": "## Credentials",
   "id": "2f16a973de114fd0"
  },
  {
   "metadata": {
    "ExecuteTime": {
     "end_time": "2025-05-23T11:05:03.260481Z",
     "start_time": "2025-05-23T11:05:03.257253Z"
    }
   },
   "cell_type": "code",
   "source": [
    "client_id = '62d3c0f89081441c9b7e0e9ee909e29f'\n",
    "client_secret = '7ff8efd44cbc4c9db03a4891318b6c26'"
   ],
   "id": "e27009123b9669e1",
   "outputs": [],
   "execution_count": 9
  },
  {
   "metadata": {},
   "cell_type": "markdown",
   "source": "## Authenticate",
   "id": "7cf4cad348a8c403"
  },
  {
   "metadata": {
    "ExecuteTime": {
     "end_time": "2025-05-23T11:05:03.282744Z",
     "start_time": "2025-05-23T11:05:03.278476Z"
    }
   },
   "cell_type": "code",
   "source": [
    "auth_manager = SpotifyClientCredentials(client_id=client_id, client_secret=client_secret)\n",
    "sp = spotipy.Spotify(auth_manager=auth_manager)\n",
    "redirect_uri = 'http://127.0.0.1:8889/callback'"
   ],
   "id": "ae52a1eca0d0399e",
   "outputs": [],
   "execution_count": 10
  },
  {
   "metadata": {
    "ExecuteTime": {
     "end_time": "2025-05-23T11:05:03.300085Z",
     "start_time": "2025-05-23T11:05:03.295986Z"
    }
   },
   "cell_type": "code",
   "source": [
    "# Scope for reading playlists\n",
    "scope = \"playlist-read-private playlist-read-collaborative\""
   ],
   "id": "ba264b5e594364bc",
   "outputs": [],
   "execution_count": 11
  },
  {
   "metadata": {
    "ExecuteTime": {
     "end_time": "2025-05-23T11:05:03.321111Z",
     "start_time": "2025-05-23T11:05:03.317627Z"
    }
   },
   "cell_type": "code",
   "source": [
    "# Authenticate with OAuth\n",
    "sp = spotipy.Spotify(auth_manager=SpotifyOAuth(\n",
    "    client_id=client_id,\n",
    "    client_secret=client_secret,\n",
    "    redirect_uri=redirect_uri,\n",
    "    scope=scope\n",
    "))"
   ],
   "id": "76399c1eba993e62",
   "outputs": [],
   "execution_count": 12
  },
  {
   "metadata": {
    "ExecuteTime": {
     "end_time": "2025-05-23T11:05:03.341570Z",
     "start_time": "2025-05-23T11:05:03.337505Z"
    }
   },
   "cell_type": "code",
   "source": [
    "# Replace this with your playlist URI or ID\n",
    "playlist_uri = 'https://open.spotify.com/playlist/4scXszKyPSHBuJJvgYk0HA?si=500e74758fb24633'"
   ],
   "id": "8f354c839bf41d72",
   "outputs": [],
   "execution_count": 13
  },
  {
   "metadata": {
    "ExecuteTime": {
     "end_time": "2025-05-23T11:05:08.758637Z",
     "start_time": "2025-05-23T11:05:03.353175Z"
    }
   },
   "cell_type": "code",
   "source": [
    "# Extract tracks\n",
    "results = sp.playlist_tracks(playlist_uri)\n",
    "tracks = results['items']"
   ],
   "id": "4cd9556f77c8816e",
   "outputs": [],
   "execution_count": 14
  },
  {
   "metadata": {
    "ExecuteTime": {
     "end_time": "2025-05-23T11:08:54.293070Z",
     "start_time": "2025-05-23T11:08:54.288841Z"
    }
   },
   "cell_type": "code",
   "source": [
    "track_data = []\n",
    "\n",
    "for item in tracks:\n",
    "    track = item.get('track')\n",
    "    if not track or not track.get('album'):\n",
    "        continue  # skip if no track or no album\n",
    "\n",
    "    release_date = track['album'].get('release_date')\n",
    "    if not release_date:\n",
    "        continue  # skip if no release date\n",
    "\n",
    "    try:\n",
    "        year = int(release_date.split('-')[0])\n",
    "        if 2000 <= year <= 2009:\n",
    "            track_data.append({\n",
    "                \"track\": track['name'],\n",
    "                \"artist\": track['artists'][0]['name'],\n",
    "                \"album\": track['album']['name'],\n",
    "                \"release_year\": year,\n",
    "                \"uri\": track['uri']\n",
    "            })\n",
    "    except Exception as e:\n",
    "        print(f\"Skipping due to unexpected error: {e}\")"
   ],
   "id": "ecaf43237356bdcb",
   "outputs": [],
   "execution_count": 19
  },
  {
   "metadata": {
    "ExecuteTime": {
     "end_time": "2025-05-23T11:08:54.992575Z",
     "start_time": "2025-05-23T11:08:54.987524Z"
    }
   },
   "cell_type": "code",
   "source": [
    "# Convert to DataFrame and filter 2000s\n",
    "df = pd.DataFrame(track_data)\n",
    "df_2000s = df[(df['release_year'] >= 2000) & (df['release_year'] <= 2009)]\n",
    "\n",
    "# Output\n",
    "print(df_2000s)"
   ],
   "id": "5c21473233c26f72",
   "outputs": [
    {
     "name": "stdout",
     "output_type": "stream",
     "text": [
      "                                               track                 artist  \\\n",
      "0                                   This Is The Life          Amy Macdonald   \n",
      "1   Si Te Vas / Que Tengo Que Hacer - Original Remix                  Omega   \n",
      "2                                            Changes      Butterfly Boucher   \n",
      "3                                          Fi er min                Natasja   \n",
      "4                                          Op og ned          Thomas Helmig   \n",
      "5                                Relax, Take It Easy                   MIKA   \n",
      "6                                       In This City          Iglu & Hartly   \n",
      "7                     Slow Dancing in a Burning Room             John Mayer   \n",
      "8                                               Kids                   MGMT   \n",
      "9                                         Can't Stop  Red Hot Chili Peppers   \n",
      "10                                     Like a Prayer                Madonna   \n",
      "11                 Young Forever [Jay-Z + Mr Hudson]                  JAY-Z   \n",
      "12                                Fibs(Løgn & Latin)          KNA Connected   \n",
      "13                           Lay All Your Love On Me                   ABBA   \n",
      "14                                       U + Ur Hand                   P!nk   \n",
      "15                                         Disturbia                Rihanna   \n",
      "\n",
      "                                      album  release_year  \\\n",
      "0                This Is The Life (eDeluxe)          2007   \n",
      "1   El Dueño Del Flow (Bonus Track Version)          2009   \n",
      "2                                   Shrek 2          2004   \n",
      "3                     I Danmark er jeg født          2007   \n",
      "4                             Helmig Herfra          2006   \n",
      "5                    Life In Cartoon Motion          2006   \n",
      "6                             And Then Boom          2009   \n",
      "7                                 Continuum          2006   \n",
      "8                      Oracular Spectacular          2007   \n",
      "9               By the Way (Deluxe Edition)          2002   \n",
      "10        Celebration (double disc version)          2009   \n",
      "11                          The Blueprint 3          2009   \n",
      "12                                      Uno          2007   \n",
      "13                                ABBA Gold          2008   \n",
      "14                             I'm Not Dead          2006   \n",
      "15             Good Girl Gone Bad: Reloaded          2008   \n",
      "\n",
      "                                     uri  \n",
      "0   spotify:track:2T3jgoAMbBXiMMD8pSc6QL  \n",
      "1   spotify:track:0OyHCmkCp2qZJ44ZKB26fX  \n",
      "2   spotify:track:29eyZx4eRXMaZc4y95g0Oq  \n",
      "3   spotify:track:4e7Fc6IPz2WsZjx6Ionggn  \n",
      "4   spotify:track:19y2eaRbqVnIMLjp3uKw9v  \n",
      "5   spotify:track:0KM2y796j63t5RHhvRUxld  \n",
      "6   spotify:track:4wqYe3p8xV06OP5S9dBI9s  \n",
      "7   spotify:track:2jdAk8ATWIL3dwT47XpRfu  \n",
      "8   spotify:track:1jJci4qxiYcOHhQR247rEU  \n",
      "9   spotify:track:3ZOEytgrvLwQaqXreDs2Jx  \n",
      "10  spotify:track:1z3ugFmUKoCzGsI6jdY4Ci  \n",
      "11  spotify:track:7nmArpOotJ431XYlJXI1vy  \n",
      "12  spotify:track:6nN5pKf0UQ4Y4SIrrp965O  \n",
      "13  spotify:track:2245x0g1ft0HC7sf79zbYN  \n",
      "14  spotify:track:7klL6qvAu4ZzthaUzLvtIN  \n",
      "15  spotify:track:2VOomzT6VavJOGBeySqaMc  \n"
     ]
    }
   ],
   "execution_count": 20
  },
  {
   "metadata": {},
   "cell_type": "code",
   "outputs": [],
   "execution_count": null,
   "source": [
    "# Optional: Save\n",
    "#df_2000s.to_csv(\"origin_2000s_songs.csv\", index=False)"
   ],
   "id": "7da19221d41028a4"
  },
  {
   "metadata": {
    "ExecuteTime": {
     "end_time": "2025-05-23T11:09:02.437315Z",
     "start_time": "2025-05-23T11:09:02.432532Z"
    }
   },
   "cell_type": "code",
   "source": [
    "track_data = []\n",
    "\n",
    "for item in tracks:\n",
    "    track = item.get('track')\n",
    "    if not track or not track.get('album'):\n",
    "        continue  # skip if no track or no album\n",
    "\n",
    "    release_date = track['album'].get('release_date')\n",
    "    if not release_date:\n",
    "        continue  # skip if no release date\n",
    "\n",
    "    try:\n",
    "        year = int(release_date.split('-')[0])\n",
    "        if 2010 <= year <= 2019:\n",
    "            track_data.append({\n",
    "                \"track\": track['name'],\n",
    "                \"artist\": track['artists'][0]['name'],\n",
    "                \"album\": track['album']['name'],\n",
    "                \"release_year\": year,\n",
    "                \"uri\": track['uri']\n",
    "            })\n",
    "    except Exception as e:\n",
    "        print(f\"Skipping due to unexpected error: {e}\")"
   ],
   "id": "dc02b5452380301a",
   "outputs": [],
   "execution_count": 21
  },
  {
   "metadata": {
    "ExecuteTime": {
     "end_time": "2025-05-23T11:09:03.869867Z",
     "start_time": "2025-05-23T11:09:03.864998Z"
    }
   },
   "cell_type": "code",
   "source": [
    "# Convert to DataFrame and filter 2000s\n",
    "df = pd.DataFrame(track_data)\n",
    "df_2010s = df[(df['release_year'] >= 2010) & (df['release_year'] <= 2019)]\n",
    "\n",
    "# Output\n",
    "print(df_2000s)"
   ],
   "id": "1ba306ae0f638df6",
   "outputs": [
    {
     "name": "stdout",
     "output_type": "stream",
     "text": [
      "                                               track                 artist  \\\n",
      "0                                   This Is The Life          Amy Macdonald   \n",
      "1   Si Te Vas / Que Tengo Que Hacer - Original Remix                  Omega   \n",
      "2                                            Changes      Butterfly Boucher   \n",
      "3                                          Fi er min                Natasja   \n",
      "4                                          Op og ned          Thomas Helmig   \n",
      "5                                Relax, Take It Easy                   MIKA   \n",
      "6                                       In This City          Iglu & Hartly   \n",
      "7                     Slow Dancing in a Burning Room             John Mayer   \n",
      "8                                               Kids                   MGMT   \n",
      "9                                         Can't Stop  Red Hot Chili Peppers   \n",
      "10                                     Like a Prayer                Madonna   \n",
      "11                 Young Forever [Jay-Z + Mr Hudson]                  JAY-Z   \n",
      "12                                Fibs(Løgn & Latin)          KNA Connected   \n",
      "13                           Lay All Your Love On Me                   ABBA   \n",
      "14                                       U + Ur Hand                   P!nk   \n",
      "15                                         Disturbia                Rihanna   \n",
      "\n",
      "                                      album  release_year  \\\n",
      "0                This Is The Life (eDeluxe)          2007   \n",
      "1   El Dueño Del Flow (Bonus Track Version)          2009   \n",
      "2                                   Shrek 2          2004   \n",
      "3                     I Danmark er jeg født          2007   \n",
      "4                             Helmig Herfra          2006   \n",
      "5                    Life In Cartoon Motion          2006   \n",
      "6                             And Then Boom          2009   \n",
      "7                                 Continuum          2006   \n",
      "8                      Oracular Spectacular          2007   \n",
      "9               By the Way (Deluxe Edition)          2002   \n",
      "10        Celebration (double disc version)          2009   \n",
      "11                          The Blueprint 3          2009   \n",
      "12                                      Uno          2007   \n",
      "13                                ABBA Gold          2008   \n",
      "14                             I'm Not Dead          2006   \n",
      "15             Good Girl Gone Bad: Reloaded          2008   \n",
      "\n",
      "                                     uri  \n",
      "0   spotify:track:2T3jgoAMbBXiMMD8pSc6QL  \n",
      "1   spotify:track:0OyHCmkCp2qZJ44ZKB26fX  \n",
      "2   spotify:track:29eyZx4eRXMaZc4y95g0Oq  \n",
      "3   spotify:track:4e7Fc6IPz2WsZjx6Ionggn  \n",
      "4   spotify:track:19y2eaRbqVnIMLjp3uKw9v  \n",
      "5   spotify:track:0KM2y796j63t5RHhvRUxld  \n",
      "6   spotify:track:4wqYe3p8xV06OP5S9dBI9s  \n",
      "7   spotify:track:2jdAk8ATWIL3dwT47XpRfu  \n",
      "8   spotify:track:1jJci4qxiYcOHhQR247rEU  \n",
      "9   spotify:track:3ZOEytgrvLwQaqXreDs2Jx  \n",
      "10  spotify:track:1z3ugFmUKoCzGsI6jdY4Ci  \n",
      "11  spotify:track:7nmArpOotJ431XYlJXI1vy  \n",
      "12  spotify:track:6nN5pKf0UQ4Y4SIrrp965O  \n",
      "13  spotify:track:2245x0g1ft0HC7sf79zbYN  \n",
      "14  spotify:track:7klL6qvAu4ZzthaUzLvtIN  \n",
      "15  spotify:track:2VOomzT6VavJOGBeySqaMc  \n"
     ]
    }
   ],
   "execution_count": 22
  },
  {
   "metadata": {},
   "cell_type": "code",
   "outputs": [],
   "execution_count": null,
   "source": "",
   "id": "a4ff878953decefb"
  },
  {
   "metadata": {},
   "cell_type": "markdown",
   "source": "# All decades",
   "id": "a2012d5622cb8956"
  },
  {
   "metadata": {
    "ExecuteTime": {
     "end_time": "2025-05-23T11:11:46.654893Z",
     "start_time": "2025-05-23T11:11:43.040472Z"
    }
   },
   "cell_type": "code",
   "source": [
    "# --- Fetch playlist tracks ---\n",
    "results = sp.playlist_items(playlist_uri)\n",
    "tracks = results['items']\n",
    "while results['next']:\n",
    "    results = sp.next(results)\n",
    "    tracks.extend(results['items'])"
   ],
   "id": "9d7244bcbcf6685",
   "outputs": [],
   "execution_count": 23
  },
  {
   "metadata": {
    "ExecuteTime": {
     "end_time": "2025-05-23T11:11:48.396372Z",
     "start_time": "2025-05-23T11:11:48.394145Z"
    }
   },
   "cell_type": "code",
   "source": [
    "# --- Initialise decade buckets ---\n",
    "decades = {\n",
    "    \"1980s\": [],\n",
    "    \"1990s\": [],\n",
    "    \"2000s\": [],\n",
    "    \"2010s\": [],\n",
    "    \"2020s\": [],\n",
    "    \"Unknown\": []\n",
    "}"
   ],
   "id": "8145b100f2f98700",
   "outputs": [],
   "execution_count": 24
  },
  {
   "metadata": {
    "ExecuteTime": {
     "end_time": "2025-05-23T11:11:50.092345Z",
     "start_time": "2025-05-23T11:11:50.084183Z"
    }
   },
   "cell_type": "code",
   "source": [
    "for item in tracks:\n",
    "    track = item.get('track')\n",
    "    if not track or not track.get('album'):\n",
    "        continue\n",
    "\n",
    "    release_date = track['album'].get('release_date')\n",
    "    if not release_date:\n",
    "        decades[\"Unknown\"].append(track)\n",
    "        continue\n",
    "\n",
    "    try:\n",
    "        year = int(release_date.split('-')[0])\n",
    "        entry = {\n",
    "            \"track\": track['name'],\n",
    "            \"artist\": track['artists'][0]['name'],\n",
    "            \"album\": track['album']['name'],\n",
    "            \"release_year\": year,\n",
    "            \"uri\": track['uri']\n",
    "        }\n",
    "\n",
    "        if 1980 <= year <= 1989:\n",
    "            decades[\"1980s\"].append(entry)\n",
    "        elif 1990 <= year <= 1999:\n",
    "            decades[\"1990s\"].append(entry)\n",
    "        elif 2000 <= year <= 2009:\n",
    "            decades[\"2000s\"].append(entry)\n",
    "        elif 2010 <= year <= 2019:\n",
    "            decades[\"2010s\"].append(entry)\n",
    "        elif 2020 <= year <= 2029:\n",
    "            decades[\"2020s\"].append(entry)\n",
    "        else:\n",
    "            decades[\"Unknown\"].append(entry)\n",
    "\n",
    "    except Exception as e:\n",
    "        print(f\"Skipping due to unexpected error: {e}\")\n",
    "        decades[\"Unknown\"].append(track)"
   ],
   "id": "2893db9e562becca",
   "outputs": [],
   "execution_count": 25
  },
  {
   "metadata": {
    "ExecuteTime": {
     "end_time": "2025-05-23T11:12:11.178094Z",
     "start_time": "2025-05-23T11:12:11.173222Z"
    }
   },
   "cell_type": "code",
   "source": [
    "# --- Convert to DataFrames ---\n",
    "df_1980s = pd.DataFrame(decades[\"1980s\"])\n",
    "df_1990s = pd.DataFrame(decades[\"1990s\"])\n",
    "df_2000s = pd.DataFrame(decades[\"2000s\"])\n",
    "df_2010s = pd.DataFrame(decades[\"2010s\"])\n",
    "df_2020s = pd.DataFrame(decades[\"2020s\"])\n",
    "df_unknown = pd.DataFrame(decades[\"Unknown\"])"
   ],
   "id": "df2b41d7234346b3",
   "outputs": [],
   "execution_count": 26
  },
  {
   "metadata": {
    "ExecuteTime": {
     "end_time": "2025-05-23T11:12:12.385984Z",
     "start_time": "2025-05-23T11:12:12.382985Z"
    }
   },
   "cell_type": "code",
   "source": [
    "# --- Print summary ---\n",
    "print(f\"🎶 Tracks by Decade:\")\n",
    "for label, data in decades.items():\n",
    "    print(f\"{label}: {len(data)} tracks\")"
   ],
   "id": "95d90130a8ca4e94",
   "outputs": [
    {
     "name": "stdout",
     "output_type": "stream",
     "text": [
      "🎶 Tracks by Decade:\n",
      "1980s: 2 tracks\n",
      "1990s: 34 tracks\n",
      "2000s: 219 tracks\n",
      "2010s: 469 tracks\n",
      "2020s: 51 tracks\n",
      "Unknown: 14 tracks\n"
     ]
    }
   ],
   "execution_count": 27
  },
  {
   "metadata": {
    "ExecuteTime": {
     "end_time": "2025-05-23T11:13:18.652914Z",
     "start_time": "2025-05-23T11:13:18.481240Z"
    }
   },
   "cell_type": "code",
   "source": "import openpyxl",
   "id": "8656b7ca93551080",
   "outputs": [],
   "execution_count": 28
  },
  {
   "metadata": {
    "ExecuteTime": {
     "end_time": "2025-05-23T11:13:38.571985Z",
     "start_time": "2025-05-23T11:13:38.508453Z"
    }
   },
   "cell_type": "code",
   "source": [
    "# Export all decades to a single Excel file with separate sheets\n",
    "with pd.ExcelWriter(\"tracks_by_decade.xlsx\", engine='openpyxl') as writer:\n",
    "    df_1980s.to_excel(writer, sheet_name='1980s', index=False)\n",
    "    df_1990s.to_excel(writer, sheet_name='1990s', index=False)\n",
    "    df_2000s.to_excel(writer, sheet_name='2000s', index=False)\n",
    "    df_2010s.to_excel(writer, sheet_name='2010s', index=False)\n",
    "    df_2020s.to_excel(writer, sheet_name='2020s', index=False)\n",
    "    df_unknown.to_excel(writer, sheet_name='Unknown', index=False)"
   ],
   "id": "b6bb2e290db5ec0a",
   "outputs": [],
   "execution_count": 29
  },
  {
   "metadata": {},
   "cell_type": "code",
   "outputs": [],
   "execution_count": null,
   "source": "",
   "id": "4ff63775566df355"
  }
 ],
 "metadata": {
  "kernelspec": {
   "display_name": "Python 3",
   "language": "python",
   "name": "python3"
  },
  "language_info": {
   "codemirror_mode": {
    "name": "ipython",
    "version": 2
   },
   "file_extension": ".py",
   "mimetype": "text/x-python",
   "name": "python",
   "nbconvert_exporter": "python",
   "pygments_lexer": "ipython2",
   "version": "2.7.6"
  }
 },
 "nbformat": 4,
 "nbformat_minor": 5
}
