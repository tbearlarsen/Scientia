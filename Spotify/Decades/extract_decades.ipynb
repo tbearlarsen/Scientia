{
 "cells": [
  {
   "metadata": {},
   "cell_type": "markdown",
   "source": "# Spotify Data Extraction",
   "id": "24ef5508f48d5d93"
  },
  {
   "metadata": {},
   "cell_type": "markdown",
   "source": "## Import Libraries",
   "id": "248d9c46cbf1444e"
  },
  {
   "cell_type": "code",
   "id": "initial_id",
   "metadata": {
    "collapsed": true,
    "ExecuteTime": {
     "end_time": "2025-05-25T09:13:26.169288Z",
     "start_time": "2025-05-25T09:13:25.589183Z"
    }
   },
   "source": [
    "from tbearlib.spotify.authenticator import *\n",
    "from tbearlib.spotify.decades import *\n",
    "from tbearlib.spotify.playlist_data import *\n",
    "import pandas as pd\n",
    "from tbearlib.file_management.dynamic_file_pathing import get_root\n",
    "import os"
   ],
   "outputs": [],
   "execution_count": 1
  },
  {
   "metadata": {},
   "cell_type": "markdown",
   "source": "## Set root",
   "id": "833305ff2f7b5390"
  },
  {
   "metadata": {
    "ExecuteTime": {
     "end_time": "2025-05-25T09:13:26.226321Z",
     "start_time": "2025-05-25T09:13:26.207892Z"
    }
   },
   "cell_type": "code",
   "source": [
    "root = get_root()\n",
    "data_path = os.path.join(root, \"Spotify\")\n",
    "output_path = os.path.join(root, \"Spotify\",\"Decades\")"
   ],
   "id": "2e1bda5bf9ebbc2e",
   "outputs": [],
   "execution_count": 2
  },
  {
   "metadata": {},
   "cell_type": "markdown",
   "source": "## Authenticate",
   "id": "7cf4cad348a8c403"
  },
  {
   "metadata": {
    "ExecuteTime": {
     "end_time": "2025-05-25T09:13:26.244545Z",
     "start_time": "2025-05-25T09:13:26.237236Z"
    }
   },
   "cell_type": "code",
   "source": [
    "cred = pd.read_csv(os.path.join(data_path, \"credentials.csv\"), header=None)\n",
    "client_id = cred.iloc[0, 1]\n",
    "client_secret = cred.iloc[1, 1]\n",
    "redirect_uri = cred.iloc[2, 1]\n",
    "\n",
    "auth = SpotifyAuthenticator(\n",
    "    client_id=client_id,\n",
    "    client_secret=client_secret,\n",
    "    redirect_uri=redirect_uri\n",
    ")\n",
    "sp = auth.authenticate()"
   ],
   "id": "a9128083f89d4c55",
   "outputs": [],
   "execution_count": 3
  },
  {
   "metadata": {},
   "cell_type": "markdown",
   "source": "## Define playlists",
   "id": "1ed949435199c65"
  },
  {
   "metadata": {
    "ExecuteTime": {
     "end_time": "2025-05-25T09:13:26.257827Z",
     "start_time": "2025-05-25T09:13:26.255760Z"
    }
   },
   "cell_type": "code",
   "source": [
    "playlists = {\n",
    "    \"Det dansk det bedst\":          \"spotify:playlist:2QU1c5E1PCGaOG09vXxdIE\",\n",
    "    \"Lingua Franca\":                \"spotify:playlist:14fOR6RZUsPpCZssVMUeK7\",\n",
    "    \"Origin\":                       \"spotify:playlist:3F21myOYXyCRLPGtuoALQb\",\n",
    "    \"Blues\":                        \"spotify:playlist:1KY05aQJYr0rgdNjWsSUE8\",\n",
    "    \"Soul\":                         \"spotify:playlist:2XYHAtDERzbw9sCazvjY8p\",\n",
    "    \"Classic Songs\":                \"spotify:playlist:67C6oP2DckL7mttZGPeku9\",\n",
    "    \"European Songs\":               \"spotify:playlist:6kBsnFGJaKlo2IAVi4yTtn\",\n",
    "    \"Party\":                        \"spotify:playlist:5NBrClOdBRUmOWLOCDGyib\",\n",
    "    \"DD\":                           \"spotify:playlist:7v9TsUhEvvm8OmdcXYfWI5\",\n",
    "    \"Justin\":                       \"spotify:playlist:7b5z5aHFy0EzXc156pLjED\",\n",
    "    \"Left out\":                     \"spotify:playlist:3xf2iFYl36GbW2XytHRk3R\",\n",
    "    \"Simply Beats\":                 \"spotify:playlist:4qZiYFQ3p2zwBqIv1PgqnG\",\n",
    "    \"All about the bass\":           \"spotify:playlist:1bg0iCc29eKwxzEgZTPJC4\",\n",
    "    \"Beat da up\":                   \"spotify:playlist:4ShIGpbq14LlWPW6eQ6zW2\",\n",
    "    \"Shrek 1, 2, 3 & 4 Soundtrack\": \"spotify:playlist:4vKsBR0At6QDqTApovWDtw\",\n",
    "    \"ultimate road trip\":           \"spotify:playlist:5AocsTlZ9iiwJwKIJnCWO1\",\n",
    "    \"2000s\":                        \"spotify:playlist:4iplIZHnpyw7e9ktJwHJrP\"\n",
    "}"
   ],
   "id": "3e254f032b235b47",
   "outputs": [],
   "execution_count": 4
  },
  {
   "metadata": {},
   "cell_type": "markdown",
   "source": "## Initialise helpers",
   "id": "bcd27cd897666753"
  },
  {
   "metadata": {
    "ExecuteTime": {
     "end_time": "2025-05-25T09:13:26.269443Z",
     "start_time": "2025-05-25T09:13:26.267747Z"
    }
   },
   "cell_type": "code",
   "source": [
    "fetcher = PlaylistFetcher(sp)\n",
    "classifier = DecadeClassifier()"
   ],
   "id": "ee4287714d71c66c",
   "outputs": [],
   "execution_count": 5
  },
  {
   "metadata": {},
   "cell_type": "markdown",
   "source": "## Loop through playlists",
   "id": "6cc3ba616b4ddd26"
  },
  {
   "metadata": {
    "ExecuteTime": {
     "end_time": "2025-05-25T09:13:44.348099Z",
     "start_time": "2025-05-25T09:13:26.286371Z"
    }
   },
   "cell_type": "code",
   "source": [
    "for name, uri in playlists.items():\n",
    "    print(f\"Processing playlist: {name}\")\n",
    "\n",
    "    # Fetch all tracks from the playlist\n",
    "    all_tracks = fetcher.fetch_all_tracks(uri)\n",
    "    decade_dataframes = classifier.classify_tracks(all_tracks)\n",
    "\n",
    "    # Define the output path\n",
    "    safe_name = name.replace(\" \", \"_\").replace(\"&\", \"and\")\n",
    "    file_path = os.path.join(output_path, f\"{safe_name}_by_decade.xlsx\")\n",
    "\n",
    "    # Export to Excel\n",
    "    with pd.ExcelWriter(file_path, engine=\"openpyxl\") as writer:\n",
    "        for decade, df in decade_dataframes.items():\n",
    "            if not df.empty:\n",
    "                df.to_excel(writer, sheet_name=decade, index=False)\n",
    "\n",
    "    print(f\"Saved → {output_path}\")"
   ],
   "id": "590e03bb5abe5bd4",
   "outputs": [
    {
     "name": "stdout",
     "output_type": "stream",
     "text": [
      "Processing playlist: Det dansk det bedst\n",
      "Saved → /Users/osito/Repositories/Scientia/Spotify/Decades\n",
      "Processing playlist: Lingua Franca\n",
      "Saved → /Users/osito/Repositories/Scientia/Spotify/Decades\n",
      "Processing playlist: Origin\n",
      "Saved → /Users/osito/Repositories/Scientia/Spotify/Decades\n",
      "Processing playlist: Blues\n",
      "Saved → /Users/osito/Repositories/Scientia/Spotify/Decades\n",
      "Processing playlist: Soul\n",
      "Saved → /Users/osito/Repositories/Scientia/Spotify/Decades\n",
      "Processing playlist: Classic Songs\n",
      "Saved → /Users/osito/Repositories/Scientia/Spotify/Decades\n",
      "Processing playlist: European Songs\n",
      "Saved → /Users/osito/Repositories/Scientia/Spotify/Decades\n",
      "Processing playlist: Party\n",
      "Saved → /Users/osito/Repositories/Scientia/Spotify/Decades\n",
      "Processing playlist: DD\n",
      "Saved → /Users/osito/Repositories/Scientia/Spotify/Decades\n",
      "Processing playlist: Justin\n",
      "Saved → /Users/osito/Repositories/Scientia/Spotify/Decades\n",
      "Processing playlist: Left out\n",
      "Saved → /Users/osito/Repositories/Scientia/Spotify/Decades\n",
      "Processing playlist: Simply Beats\n",
      "Saved → /Users/osito/Repositories/Scientia/Spotify/Decades\n",
      "Processing playlist: All about the bass\n",
      "Saved → /Users/osito/Repositories/Scientia/Spotify/Decades\n",
      "Processing playlist: Beat da up\n",
      "Saved → /Users/osito/Repositories/Scientia/Spotify/Decades\n",
      "Processing playlist: Shrek 1, 2, 3 & 4 Soundtrack\n",
      "Saved → /Users/osito/Repositories/Scientia/Spotify/Decades\n",
      "Processing playlist: ultimate road trip\n",
      "Saved → /Users/osito/Repositories/Scientia/Spotify/Decades\n",
      "Processing playlist: 2000s\n",
      "Saved → /Users/osito/Repositories/Scientia/Spotify/Decades\n"
     ]
    }
   ],
   "execution_count": 6
  },
  {
   "metadata": {
    "ExecuteTime": {
     "end_time": "2025-05-25T09:13:44.363606Z",
     "start_time": "2025-05-25T09:13:44.362104Z"
    }
   },
   "cell_type": "code",
   "source": "",
   "id": "2e1ac89023d6d1e3",
   "outputs": [],
   "execution_count": null
  }
 ],
 "metadata": {
  "kernelspec": {
   "display_name": "Python 3",
   "language": "python",
   "name": "python3"
  },
  "language_info": {
   "codemirror_mode": {
    "name": "ipython",
    "version": 2
   },
   "file_extension": ".py",
   "mimetype": "text/x-python",
   "name": "python",
   "nbconvert_exporter": "python",
   "pygments_lexer": "ipython2",
   "version": "2.7.6"
  }
 },
 "nbformat": 4,
 "nbformat_minor": 5
}
