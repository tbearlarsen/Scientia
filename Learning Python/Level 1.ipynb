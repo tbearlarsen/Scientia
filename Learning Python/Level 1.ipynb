{
 "cells": [
  {
   "metadata": {},
   "cell_type": "markdown",
   "source": [
    "# 1.1\n",
    "Asks the user for their name and age.\n",
    "\n",
    "Calculates what year they will turn 100.\n",
    "\n",
    "Prints a personalised message with that information.\n",
    "\n",
    "Repeats the message n times, where n is a number the user inputs next."
   ],
   "id": "a8395a20feb6e81f"
  },
  {
   "cell_type": "code",
   "id": "initial_id",
   "metadata": {
    "collapsed": true,
    "ExecuteTime": {
     "end_time": "2025-05-24T20:14:52.165703Z",
     "start_time": "2025-05-24T20:14:42.728948Z"
    }
   },
   "source": [
    "name = input(\"What is your name?\")\n",
    "age = int(input(\"What is your age\"))\n",
    "to_100 = 100-age\n",
    "\n",
    "repeat = int(input(\"How many times do you want the message?\"))\n",
    "\n",
    "for i in range(repeat):\n",
    "    print(f\"User's name is {name} and is {age} years old. They have {to_100} years until they are 100 years old\")"
   ],
   "outputs": [
    {
     "name": "stdout",
     "output_type": "stream",
     "text": [
      "User's name is TB and is 28 years old. They have 72 years until they are 100 years old\n",
      "User's name is TB and is 28 years old. They have 72 years until they are 100 years old\n"
     ]
    }
   ],
   "execution_count": 1
  },
  {
   "metadata": {},
   "cell_type": "markdown",
   "source": [
    "# 1.2\n",
    "\n",
    "Extend the program so that:\n",
    "If the age is less than 0 or more than 120, the program prints a warning and exits.\n",
    "If the user is already 100 or older, print a message saying \"You're already 100 or older!\" and do not calculate the years to 100.\n",
    "Otherwise, continue with the message like before."
   ],
   "id": "bc34220d65f86233"
  },
  {
   "metadata": {
    "ExecuteTime": {
     "end_time": "2025-05-24T20:22:20.656447Z",
     "start_time": "2025-05-24T20:22:08.757450Z"
    }
   },
   "cell_type": "code",
   "source": [
    "name = input(\"What is your name?\")\n",
    "age = int(input(\"What is your age\"))\n",
    "n = int(input(\"How many times do you want the message?\"))\n",
    "\n",
    "if age < 0 or age > 120:\n",
    "        print(\"Warning\")\n",
    "        exit()\n",
    "elif age >= 100:\n",
    "        print(\"You're already 100 or older!\")\n",
    "else:\n",
    "    to_100 = 100-age\n",
    "    for i in range(n):\n",
    "        print(f\"{name} is {age} years old and have {to_100} years until they are 100 years old\")"
   ],
   "id": "a230ad443b67d916",
   "outputs": [
    {
     "name": "stdout",
     "output_type": "stream",
     "text": [
      "Warning\n"
     ]
    }
   ],
   "execution_count": 4
  },
  {
   "metadata": {},
   "cell_type": "markdown",
   "source": [
    "# 1.3\n",
    "Ask the user to enter a list of comma-separated names (e.g., Alice,Bob,Charlie).\n",
    "Ask for each person’s age (you decide how to prompt).\n",
    "Print how many years each person has until they turn 100."
   ],
   "id": "bf853f34ebf0fba0"
  },
  {
   "metadata": {
    "ExecuteTime": {
     "end_time": "2025-05-24T20:29:39.481630Z",
     "start_time": "2025-05-24T20:29:22.417386Z"
    }
   },
   "cell_type": "code",
   "source": [
    "names = input(\"Provide comma-separated names:\")\n",
    "name_list = names.split(',')\n",
    "\n",
    "ages = []\n",
    "\n",
    "for name in name_list:\n",
    "    age = int(input(f\"How old is {name}?\"))\n",
    "    ages.append(age)\n",
    "\n"
   ],
   "id": "1b3f3c02f471a175",
   "outputs": [],
   "execution_count": 3
  },
  {
   "metadata": {},
   "cell_type": "code",
   "outputs": [],
   "execution_count": null,
   "source": "",
   "id": "f082a1bbb151121d"
  }
 ],
 "metadata": {
  "kernelspec": {
   "display_name": "Python 3",
   "language": "python",
   "name": "python3"
  },
  "language_info": {
   "codemirror_mode": {
    "name": "ipython",
    "version": 2
   },
   "file_extension": ".py",
   "mimetype": "text/x-python",
   "name": "python",
   "nbconvert_exporter": "python",
   "pygments_lexer": "ipython2",
   "version": "2.7.6"
  }
 },
 "nbformat": 4,
 "nbformat_minor": 5
}
